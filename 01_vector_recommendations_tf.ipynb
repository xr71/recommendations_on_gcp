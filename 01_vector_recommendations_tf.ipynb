{
 "metadata": {
  "language_info": {
   "codemirror_mode": {
    "name": "ipython",
    "version": 3
   },
   "file_extension": ".py",
   "mimetype": "text/x-python",
   "name": "python",
   "nbconvert_exporter": "python",
   "pygments_lexer": "ipython3",
   "version": "3.7.7-final"
  },
  "orig_nbformat": 2,
  "kernelspec": {
   "name": "python3",
   "display_name": "Python 3"
  }
 },
 "nbformat": 4,
 "nbformat_minor": 2,
 "cells": [
  {
   "cell_type": "code",
   "execution_count": 3,
   "metadata": {},
   "outputs": [],
   "source": [
    "import tensorflow as tf\n",
    "import numpy as np"
   ]
  },
  {
   "cell_type": "code",
   "execution_count": 4,
   "metadata": {},
   "outputs": [
    {
     "output_type": "execute_result",
     "data": {
      "text/plain": [
       "'2.1.0'"
      ]
     },
     "metadata": {},
     "execution_count": 4
    }
   ],
   "source": [
    "tf.__version__"
   ]
  },
  {
   "cell_type": "code",
   "execution_count": 5,
   "metadata": {},
   "outputs": [],
   "source": [
    "# first, we have 4 users and 5 movies in a matrix\n",
    "\n",
    "user_movie = tf.constant([\n",
    "    [4,  6, 8,  0, 0],\n",
    "    [0,  0, 10, 0, 8],\n",
    "    [0,  6, 0,  0, 3],\n",
    "    [10, 9, 0,  5, 0]\n",
    "])\n",
    "\n",
    "\n",
    "# we have a movie to genre features tag matrix\n",
    "\n",
    "movie_feats = tf.constant([\n",
    "    [1,1,0,0,1],\n",
    "    [1,1,0,0,0],\n",
    "    [0,0,1,1,0],\n",
    "    [1,0,1,1,0],\n",
    "    [0,0,0,0,1]\n",
    "])"
   ]
  },
  {
   "cell_type": "code",
   "execution_count": 11,
   "metadata": {},
   "outputs": [],
   "source": [
    "# take each vector from the user row, turn it vertically, and multiply it by the row vectors of the movie-genre\n",
    "weighted_feature_m = []\n",
    "for i in range(len(user_movie)):\n",
    "    weighted_feature_m.append(tf.expand_dims(user_movie[i], axis=1) * movie_feats)"
   ]
  },
  {
   "cell_type": "code",
   "execution_count": 12,
   "metadata": {},
   "outputs": [
    {
     "output_type": "execute_result",
     "data": {
      "text/plain": [
       "[<tf.Tensor: shape=(5, 5), dtype=int32, numpy=\n",
       " array([[4, 4, 0, 0, 4],\n",
       "        [6, 6, 0, 0, 0],\n",
       "        [0, 0, 8, 8, 0],\n",
       "        [0, 0, 0, 0, 0],\n",
       "        [0, 0, 0, 0, 0]])>,\n",
       " <tf.Tensor: shape=(5, 5), dtype=int32, numpy=\n",
       " array([[ 0,  0,  0,  0,  0],\n",
       "        [ 0,  0,  0,  0,  0],\n",
       "        [ 0,  0, 10, 10,  0],\n",
       "        [ 0,  0,  0,  0,  0],\n",
       "        [ 0,  0,  0,  0,  8]])>,\n",
       " <tf.Tensor: shape=(5, 5), dtype=int32, numpy=\n",
       " array([[0, 0, 0, 0, 0],\n",
       "        [6, 6, 0, 0, 0],\n",
       "        [0, 0, 0, 0, 0],\n",
       "        [0, 0, 0, 0, 0],\n",
       "        [0, 0, 0, 0, 3]])>,\n",
       " <tf.Tensor: shape=(5, 5), dtype=int32, numpy=\n",
       " array([[10, 10,  0,  0, 10],\n",
       "        [ 9,  9,  0,  0,  0],\n",
       "        [ 0,  0,  0,  0,  0],\n",
       "        [ 5,  0,  5,  5,  0],\n",
       "        [ 0,  0,  0,  0,  0]])>]"
      ]
     },
     "metadata": {},
     "execution_count": 12
    }
   ],
   "source": [
    "weighted_feature_m"
   ]
  },
  {
   "cell_type": "code",
   "execution_count": 20,
   "metadata": {},
   "outputs": [],
   "source": [
    "scaled_feature_m = []\n",
    "for m in weighted_feature_m:\n",
    "    agg_vec = tf.reduce_sum(m, axis=0)\n",
    "    sum_agg_vec = tf.reduce_sum(agg_vec)\n",
    "    scaled_feature_m.append(agg_vec / sum_agg_vec)"
   ]
  },
  {
   "cell_type": "code",
   "execution_count": 23,
   "metadata": {},
   "outputs": [
    {
     "output_type": "execute_result",
     "data": {
      "text/plain": [
       "[<tf.Tensor: shape=(5,), dtype=float64, numpy=array([0.25, 0.25, 0.2 , 0.2 , 0.1 ])>,\n",
       " <tf.Tensor: shape=(5,), dtype=float64, numpy=array([0.        , 0.        , 0.35714286, 0.35714286, 0.28571429])>,\n",
       " <tf.Tensor: shape=(5,), dtype=float64, numpy=array([0.4, 0.4, 0. , 0. , 0.2])>,\n",
       " <tf.Tensor: shape=(5,), dtype=float64, numpy=array([0.38095238, 0.3015873 , 0.07936508, 0.07936508, 0.15873016])>]"
      ]
     },
     "metadata": {},
     "execution_count": 23
    }
   ],
   "source": [
    "scaled_feature_m"
   ]
  },
  {
   "cell_type": "code",
   "execution_count": 27,
   "metadata": {},
   "outputs": [
    {
     "output_type": "execute_result",
     "data": {
      "text/plain": [
       "<tf.Tensor: shape=(5,), dtype=float64, numpy=array([0.25, 0.25, 0.2 , 0.2 , 0.1 ])>"
      ]
     },
     "metadata": {},
     "execution_count": 27
    }
   ],
   "source": [
    "scaled_feature_m[0]"
   ]
  },
  {
   "cell_type": "code",
   "execution_count": 28,
   "metadata": {},
   "outputs": [
    {
     "output_type": "execute_result",
     "data": {
      "text/plain": [
       "<function tensorflow.python.ops.math_ops.tensordot(a, b, axes, name=None)>"
      ]
     },
     "metadata": {},
     "execution_count": 28
    }
   ],
   "source": [
    "tf.tensordot"
   ]
  },
  {
   "cell_type": "code",
   "execution_count": 41,
   "metadata": {},
   "outputs": [
    {
     "output_type": "execute_result",
     "data": {
      "text/plain": [
       "<tf.Tensor: shape=(5, 5), dtype=int32, numpy=\n",
       "array([[1, 1, 0, 0, 1],\n",
       "       [1, 1, 0, 0, 0],\n",
       "       [0, 0, 1, 1, 0],\n",
       "       [1, 0, 1, 1, 0],\n",
       "       [0, 0, 0, 0, 1]])>"
      ]
     },
     "metadata": {},
     "execution_count": 41
    }
   ],
   "source": [
    "movie_feats"
   ]
  },
  {
   "cell_type": "code",
   "execution_count": 60,
   "metadata": {},
   "outputs": [
    {
     "output_type": "execute_result",
     "data": {
      "text/plain": [
       "<tf.Tensor: shape=(5, 1), dtype=float64, numpy=\n",
       "array([[0.6 ],\n",
       "       [0.5 ],\n",
       "       [0.4 ],\n",
       "       [0.65],\n",
       "       [0.1 ]])>"
      ]
     },
     "metadata": {},
     "execution_count": 60
    }
   ],
   "source": [
    "tf.matmul(tf.cast(movie_feats, dtype=tf.float64), tf.expand_dims(scaled_feature_m[0], axis=1))"
   ]
  },
  {
   "cell_type": "code",
   "execution_count": 62,
   "metadata": {},
   "outputs": [],
   "source": [
    "user_ratings = []\n",
    "for i in range(len(user_movie)):\n",
    "    user_ratings.append(tf.matmul(tf.cast(movie_feats, dtype=tf.float64), tf.expand_dims(scaled_feature_m[i], axis=1)))"
   ]
  },
  {
   "cell_type": "code",
   "execution_count": 74,
   "metadata": {},
   "outputs": [],
   "source": [
    "user_ratings = (tf.stack(user_ratings, axis=0))"
   ]
  },
  {
   "cell_type": "code",
   "execution_count": 81,
   "metadata": {},
   "outputs": [],
   "source": [
    "user_ratings_reshaped = tf.stack([tf.transpose(user_ratings[i]) for i in range(len(user_ratings))])"
   ]
  },
  {
   "cell_type": "code",
   "execution_count": 84,
   "metadata": {},
   "outputs": [
    {
     "output_type": "execute_result",
     "data": {
      "text/plain": [
       "<tf.Tensor: shape=(4, 1, 5), dtype=float64, numpy=\n",
       "array([[[0.6       , 0.5       , 0.4       , 0.65      , 0.1       ]],\n",
       "\n",
       "       [[0.28571429, 0.        , 0.71428571, 0.71428571, 0.28571429]],\n",
       "\n",
       "       [[1.        , 0.8       , 0.        , 0.4       , 0.2       ]],\n",
       "\n",
       "       [[0.84126984, 0.68253968, 0.15873016, 0.53968254, 0.15873016]]])>"
      ]
     },
     "metadata": {},
     "execution_count": 84
    }
   ],
   "source": [
    "user_ratings_reshaped"
   ]
  },
  {
   "cell_type": "code",
   "execution_count": 90,
   "metadata": {},
   "outputs": [
    {
     "output_type": "execute_result",
     "data": {
      "text/plain": [
       "<tf.Tensor: shape=(10, 2), dtype=int64, numpy=\n",
       "array([[0, 3],\n",
       "       [0, 4],\n",
       "       [1, 0],\n",
       "       [1, 1],\n",
       "       [1, 3],\n",
       "       [2, 0],\n",
       "       [2, 2],\n",
       "       [2, 3],\n",
       "       [3, 2],\n",
       "       [3, 4]], dtype=int64)>"
      ]
     },
     "metadata": {},
     "execution_count": 90
    }
   ],
   "source": [
    "# our user has already seen some of the movie, so we need to mask those movies\n",
    "\n",
    "tf.where(user_movie == 0)"
   ]
  },
  {
   "cell_type": "code",
   "execution_count": 104,
   "metadata": {},
   "outputs": [
    {
     "output_type": "execute_result",
     "data": {
      "text/plain": [
       "TensorShape([4, 1, 5])"
      ]
     },
     "metadata": {},
     "execution_count": 104
    }
   ],
   "source": [
    "user_ratings_reshaped.shape"
   ]
  },
  {
   "cell_type": "code",
   "execution_count": 105,
   "metadata": {},
   "outputs": [
    {
     "output_type": "execute_result",
     "data": {
      "text/plain": [
       "TensorShape([4, 5])"
      ]
     },
     "metadata": {},
     "execution_count": 105
    }
   ],
   "source": [
    "user_movie.shape"
   ]
  },
  {
   "cell_type": "code",
   "execution_count": 106,
   "metadata": {},
   "outputs": [
    {
     "output_type": "execute_result",
     "data": {
      "text/plain": [
       "<tf.Tensor: shape=(4, 5), dtype=float64, numpy=\n",
       "array([[0.6       , 0.5       , 0.4       , 0.65      , 0.1       ],\n",
       "       [0.28571429, 0.        , 0.71428571, 0.71428571, 0.28571429],\n",
       "       [1.        , 0.8       , 0.        , 0.4       , 0.2       ],\n",
       "       [0.84126984, 0.68253968, 0.15873016, 0.53968254, 0.15873016]])>"
      ]
     },
     "metadata": {},
     "execution_count": 106
    }
   ],
   "source": [
    "tf.reshape(user_ratings_reshaped, (4,5))"
   ]
  },
  {
   "cell_type": "code",
   "execution_count": 109,
   "metadata": {},
   "outputs": [
    {
     "output_type": "execute_result",
     "data": {
      "text/plain": [
       "<tf.Tensor: shape=(4, 5), dtype=float64, numpy=\n",
       "array([[ 4.        ,  6.        ,  8.        ,  0.65      ,  0.1       ],\n",
       "       [ 0.28571429,  0.        , 10.        ,  0.71428571,  8.        ],\n",
       "       [ 1.        ,  6.        ,  0.        ,  0.4       ,  3.        ],\n",
       "       [10.        ,  9.        ,  0.15873016,  5.        ,  0.15873016]])>"
      ]
     },
     "metadata": {},
     "execution_count": 109
    }
   ],
   "source": [
    "tf.where(user_movie == 0, tf.reshape(user_ratings_reshaped, (4,5)), tf.cast(user_movie, dtype=tf.float64))"
   ]
  },
  {
   "cell_type": "code",
   "execution_count": 110,
   "metadata": {},
   "outputs": [
    {
     "output_type": "execute_result",
     "data": {
      "text/plain": [
       "<tf.Tensor: shape=(4, 5), dtype=int32, numpy=\n",
       "array([[ 4,  6,  8,  0,  0],\n",
       "       [ 0,  0, 10,  0,  8],\n",
       "       [ 0,  6,  0,  0,  3],\n",
       "       [10,  9,  0,  5,  0]])>"
      ]
     },
     "metadata": {},
     "execution_count": 110
    }
   ],
   "source": [
    "user_movie"
   ]
  },
  {
   "cell_type": "code",
   "execution_count": null,
   "metadata": {},
   "outputs": [],
   "source": []
  }
 ]
}